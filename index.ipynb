{
 "cells": [
  {
   "cell_type": "markdown",
   "metadata": {},
   "source": [
    "# Integrating PCA in Pipelines - Lab"
   ]
  },
  {
   "cell_type": "markdown",
   "metadata": {},
   "source": [
    "## Introduction"
   ]
  },
  {
   "cell_type": "markdown",
   "metadata": {},
   "source": [
    "In a previous section, you learned about how to use pipelines in scikit-learn to combine several supervised learning algorithms in a manageable pipeline. In this lesson, you will integrate PCA along with classifiers in the pipeline. "
   ]
  },
  {
   "cell_type": "markdown",
   "metadata": {},
   "source": [
    "## Objectives\n",
    "\n",
    "In this lab you will: \n",
    "\n",
    "- Integrate PCA in scikit-learn pipelines "
   ]
  },
  {
   "cell_type": "markdown",
   "metadata": {},
   "source": [
    "## The Data Science Workflow"
   ]
  },
  {
   "cell_type": "markdown",
   "metadata": {},
   "source": [
    "You will be following the data science workflow:\n",
    "\n",
    "1. Initial data inspection, exploratory data analysis, and cleaning\n",
    "2. Feature engineering and selection\n",
    "3. Create a baseline model\n",
    "4. Create a machine learning pipeline and compare results with the baseline model\n",
    "5. Interpret the model and draw conclusions"
   ]
  },
  {
   "cell_type": "markdown",
   "metadata": {},
   "source": [
    "##  Initial data inspection, exploratory data analysis, and cleaning"
   ]
  },
  {
   "cell_type": "markdown",
   "metadata": {},
   "source": [
    "You'll use a dataset created by the Otto group, which was also used in a [Kaggle competition](https://www.kaggle.com/c/otto-group-product-classification-challenge/data). The description of the dataset is as follows:\n",
    "\n",
    "The Otto Group is one of the world’s biggest e-commerce companies, with subsidiaries in more than 20 countries, including Crate & Barrel (USA), Otto.de (Germany) and 3 Suisses (France). They are selling millions of products worldwide every day, with several thousand products being added to their product line.\n",
    "\n",
    "A consistent analysis of the performance of their products is crucial. However, due to their global infrastructure, many identical products get classified differently. Therefore, the quality of product analysis depends heavily on the ability to accurately cluster similar products. The better the classification, the more insights the Otto Group can generate about their product range.\n",
    "\n",
    "In this lab, you'll use a dataset containing:\n",
    "- A column `id`, which is an anonymous id unique to a product\n",
    "- 93 columns `feat_1`, `feat_2`, ..., `feat_93`, which are the various features of a product\n",
    "- a column `target` - the class of a product\n",
    "\n",
    "\n",
    "\n",
    "The dataset is stored in the `'otto_group.csv'` file. Import this file into a DataFrame called `data`, and then: \n",
    "\n",
    "- Check for missing values \n",
    "- Check the distribution of columns \n",
    "- ... and any other things that come to your mind to explore the data "
   ]
  },
  {
   "cell_type": "code",
   "execution_count": 18,
   "metadata": {
    "ExecuteTime": {
     "end_time": "2020-11-27T22:12:47.789505Z",
     "start_time": "2020-11-27T22:12:47.383991Z"
    }
   },
   "outputs": [
    {
     "data": {
      "text/html": [
       "<div>\n",
       "<style scoped>\n",
       "    .dataframe tbody tr th:only-of-type {\n",
       "        vertical-align: middle;\n",
       "    }\n",
       "\n",
       "    .dataframe tbody tr th {\n",
       "        vertical-align: top;\n",
       "    }\n",
       "\n",
       "    .dataframe thead th {\n",
       "        text-align: right;\n",
       "    }\n",
       "</style>\n",
       "<table border=\"1\" class=\"dataframe\">\n",
       "  <thead>\n",
       "    <tr style=\"text-align: right;\">\n",
       "      <th></th>\n",
       "      <th>id</th>\n",
       "      <th>feat_1</th>\n",
       "      <th>feat_2</th>\n",
       "      <th>feat_3</th>\n",
       "      <th>feat_4</th>\n",
       "      <th>feat_5</th>\n",
       "      <th>feat_6</th>\n",
       "      <th>feat_7</th>\n",
       "      <th>feat_8</th>\n",
       "      <th>feat_9</th>\n",
       "      <th>...</th>\n",
       "      <th>feat_85</th>\n",
       "      <th>feat_86</th>\n",
       "      <th>feat_87</th>\n",
       "      <th>feat_88</th>\n",
       "      <th>feat_89</th>\n",
       "      <th>feat_90</th>\n",
       "      <th>feat_91</th>\n",
       "      <th>feat_92</th>\n",
       "      <th>feat_93</th>\n",
       "      <th>target</th>\n",
       "    </tr>\n",
       "  </thead>\n",
       "  <tbody>\n",
       "    <tr>\n",
       "      <td>0</td>\n",
       "      <td>1</td>\n",
       "      <td>1</td>\n",
       "      <td>0</td>\n",
       "      <td>0</td>\n",
       "      <td>0</td>\n",
       "      <td>0</td>\n",
       "      <td>0</td>\n",
       "      <td>0</td>\n",
       "      <td>0</td>\n",
       "      <td>0</td>\n",
       "      <td>...</td>\n",
       "      <td>1</td>\n",
       "      <td>0</td>\n",
       "      <td>0</td>\n",
       "      <td>0</td>\n",
       "      <td>0</td>\n",
       "      <td>0</td>\n",
       "      <td>0</td>\n",
       "      <td>0</td>\n",
       "      <td>0</td>\n",
       "      <td>Class_1</td>\n",
       "    </tr>\n",
       "    <tr>\n",
       "      <td>1</td>\n",
       "      <td>2</td>\n",
       "      <td>0</td>\n",
       "      <td>0</td>\n",
       "      <td>0</td>\n",
       "      <td>0</td>\n",
       "      <td>0</td>\n",
       "      <td>0</td>\n",
       "      <td>0</td>\n",
       "      <td>1</td>\n",
       "      <td>0</td>\n",
       "      <td>...</td>\n",
       "      <td>0</td>\n",
       "      <td>0</td>\n",
       "      <td>0</td>\n",
       "      <td>0</td>\n",
       "      <td>0</td>\n",
       "      <td>0</td>\n",
       "      <td>0</td>\n",
       "      <td>0</td>\n",
       "      <td>0</td>\n",
       "      <td>Class_1</td>\n",
       "    </tr>\n",
       "    <tr>\n",
       "      <td>2</td>\n",
       "      <td>3</td>\n",
       "      <td>0</td>\n",
       "      <td>0</td>\n",
       "      <td>0</td>\n",
       "      <td>0</td>\n",
       "      <td>0</td>\n",
       "      <td>0</td>\n",
       "      <td>0</td>\n",
       "      <td>1</td>\n",
       "      <td>0</td>\n",
       "      <td>...</td>\n",
       "      <td>0</td>\n",
       "      <td>0</td>\n",
       "      <td>0</td>\n",
       "      <td>0</td>\n",
       "      <td>0</td>\n",
       "      <td>0</td>\n",
       "      <td>0</td>\n",
       "      <td>0</td>\n",
       "      <td>0</td>\n",
       "      <td>Class_1</td>\n",
       "    </tr>\n",
       "    <tr>\n",
       "      <td>3</td>\n",
       "      <td>4</td>\n",
       "      <td>1</td>\n",
       "      <td>0</td>\n",
       "      <td>0</td>\n",
       "      <td>1</td>\n",
       "      <td>6</td>\n",
       "      <td>1</td>\n",
       "      <td>5</td>\n",
       "      <td>0</td>\n",
       "      <td>0</td>\n",
       "      <td>...</td>\n",
       "      <td>0</td>\n",
       "      <td>1</td>\n",
       "      <td>2</td>\n",
       "      <td>0</td>\n",
       "      <td>0</td>\n",
       "      <td>0</td>\n",
       "      <td>0</td>\n",
       "      <td>0</td>\n",
       "      <td>0</td>\n",
       "      <td>Class_1</td>\n",
       "    </tr>\n",
       "    <tr>\n",
       "      <td>4</td>\n",
       "      <td>5</td>\n",
       "      <td>0</td>\n",
       "      <td>0</td>\n",
       "      <td>0</td>\n",
       "      <td>0</td>\n",
       "      <td>0</td>\n",
       "      <td>0</td>\n",
       "      <td>0</td>\n",
       "      <td>0</td>\n",
       "      <td>0</td>\n",
       "      <td>...</td>\n",
       "      <td>1</td>\n",
       "      <td>0</td>\n",
       "      <td>0</td>\n",
       "      <td>0</td>\n",
       "      <td>0</td>\n",
       "      <td>1</td>\n",
       "      <td>0</td>\n",
       "      <td>0</td>\n",
       "      <td>0</td>\n",
       "      <td>Class_1</td>\n",
       "    </tr>\n",
       "  </tbody>\n",
       "</table>\n",
       "<p>5 rows × 95 columns</p>\n",
       "</div>"
      ],
      "text/plain": [
       "   id  feat_1  feat_2  feat_3  feat_4  feat_5  feat_6  feat_7  feat_8  feat_9  \\\n",
       "0   1       1       0       0       0       0       0       0       0       0   \n",
       "1   2       0       0       0       0       0       0       0       1       0   \n",
       "2   3       0       0       0       0       0       0       0       1       0   \n",
       "3   4       1       0       0       1       6       1       5       0       0   \n",
       "4   5       0       0       0       0       0       0       0       0       0   \n",
       "\n",
       "   ...  feat_85  feat_86  feat_87  feat_88  feat_89  feat_90  feat_91  \\\n",
       "0  ...        1        0        0        0        0        0        0   \n",
       "1  ...        0        0        0        0        0        0        0   \n",
       "2  ...        0        0        0        0        0        0        0   \n",
       "3  ...        0        1        2        0        0        0        0   \n",
       "4  ...        1        0        0        0        0        1        0   \n",
       "\n",
       "   feat_92  feat_93   target  \n",
       "0        0        0  Class_1  \n",
       "1        0        0  Class_1  \n",
       "2        0        0  Class_1  \n",
       "3        0        0  Class_1  \n",
       "4        0        0  Class_1  \n",
       "\n",
       "[5 rows x 95 columns]"
      ]
     },
     "execution_count": 18,
     "metadata": {},
     "output_type": "execute_result"
    }
   ],
   "source": [
    "# Your code here\n",
    "import pandas as pd\n",
    "import numpy as np\n",
    "from sklearn.decomposition import PCA\n",
    "from sklearn.pipeline import Pipeline\n",
    "import matplotlib.pyplot as plt\n",
    "%matplotlib inline\n",
    "\n",
    "df = pd.read_csv('otto_group.csv')\n",
    "df.head()"
   ]
  },
  {
   "cell_type": "code",
   "execution_count": 19,
   "metadata": {
    "ExecuteTime": {
     "end_time": "2020-11-27T22:12:51.460903Z",
     "start_time": "2020-11-27T22:12:48.150692Z"
    }
   },
   "outputs": [
    {
     "data": {
      "image/png": "[encoded data removed]",
      "text/plain": [
       "<Figure size 1080x1080 with 30 Axes>"
      ]
     },
     "metadata": {
      "needs_background": "light"
     },
     "output_type": "display_data"
    }
   ],
   "source": [
    "# Your code here\n",
    "df.iloc[:, 1:31].hist(figsize=(15, 15));"
   ]
  },
  {
   "cell_type": "code",
   "execution_count": 20,
   "metadata": {
    "ExecuteTime": {
     "end_time": "2020-11-27T22:12:55.001412Z",
     "start_time": "2020-11-27T22:12:51.631073Z"
    }
   },
   "outputs": [
    {
     "data": {
      "image/png": "[encoded data removed]",
      "text/plain": [
       "<Figure size 1080x1080 with 30 Axes>"
      ]
     },
     "metadata": {
      "needs_background": "light"
     },
     "output_type": "display_data"
    }
   ],
   "source": [
    "# Your code here\n",
    "df.iloc[:, 31:61].hist(figsize=(15,15));"
   ]
  },
  {
   "cell_type": "code",
   "execution_count": 21,
   "metadata": {
    "ExecuteTime": {
     "end_time": "2020-11-27T22:12:58.624351Z",
     "start_time": "2020-11-27T22:12:55.167097Z"
    }
   },
   "outputs": [
    {
     "data": {
      "image/png": "[encoded data removed]",
      "text/plain": [
       "<Figure size 1080x1080 with 36 Axes>"
      ]
     },
     "metadata": {
      "needs_background": "light"
     },
     "output_type": "display_data"
    }
   ],
   "source": [
    "# Your code here\n",
    "df.iloc[:, 61:].hist(figsize=(15,15));"
   ]
  },
  {
   "cell_type": "code",
   "execution_count": 22,
   "metadata": {
    "ExecuteTime": {
     "end_time": "2020-11-27T22:12:58.814670Z",
     "start_time": "2020-11-27T22:12:58.786726Z"
    }
   },
   "outputs": [
    {
     "data": {
      "text/plain": [
       "array([0, 0, 0, 0, 0, 0, 0, 0, 0, 0, 0, 0, 0, 0, 0, 0, 0, 0, 0, 0, 0, 0,\n",
       "       0, 0, 0, 0, 0, 0, 0, 0, 0, 0, 0, 0, 0, 0, 0, 0, 0, 0, 0, 0, 0, 0,\n",
       "       0, 0, 0, 0, 0, 0, 0, 0, 0, 0, 0, 0, 0, 0, 0, 0, 0, 0, 0, 0, 0, 0,\n",
       "       0, 0, 0, 0, 0, 0, 0, 0, 0, 0, 0, 0, 0, 0, 0, 0, 0, 0, 0, 0, 0, 0,\n",
       "       0, 0, 0, 0, 0, 0, 0])"
      ]
     },
     "execution_count": 22,
     "metadata": {},
     "output_type": "execute_result"
    }
   ],
   "source": [
    "# Your code here\n",
    "df.isna().sum().values"
   ]
  },
  {
   "cell_type": "code",
   "execution_count": 23,
   "metadata": {
    "ExecuteTime": {
     "end_time": "2020-11-27T22:12:59.037782Z",
     "start_time": "2020-11-27T22:12:59.034852Z"
    }
   },
   "outputs": [],
   "source": [
    "# Your code here"
   ]
  },
  {
   "cell_type": "markdown",
   "metadata": {},
   "source": [
    "If you look at all the histograms, you can tell that a lot of the data are zero-inflated, so most of the variables contain mostly zeros and then some higher values here and there. No normality, but for most machine learning techniques this is not an issue. "
   ]
  },
  {
   "cell_type": "code",
   "execution_count": 24,
   "metadata": {
    "ExecuteTime": {
     "end_time": "2020-11-27T22:12:59.162625Z",
     "start_time": "2020-11-27T22:12:59.159662Z"
    }
   },
   "outputs": [],
   "source": [
    "# Your code here"
   ]
  },
  {
   "cell_type": "markdown",
   "metadata": {},
   "source": [
    "Because there are so many zeroes, most values above zero will seem to be outliers. The safe decision for this data is to not delete any outliers and see what happens. With many 0s, sparse data is available and high values may be super informative. Moreover, without having any intuitive meaning for each of the features, we don't know if a value of ~260 is actually an outlier."
   ]
  },
  {
   "cell_type": "code",
   "execution_count": 25,
   "metadata": {
    "ExecuteTime": {
     "end_time": "2020-11-27T22:12:59.290828Z",
     "start_time": "2020-11-27T22:12:59.287897Z"
    }
   },
   "outputs": [],
   "source": [
    "# Your code here"
   ]
  },
  {
   "cell_type": "markdown",
   "metadata": {},
   "source": [
    "## Feature engineering and selection with PCA"
   ]
  },
  {
   "cell_type": "markdown",
   "metadata": {},
   "source": [
    "Have a look at the correlation structure of your features using a [heatmap](https://seaborn.pydata.org/generated/seaborn.heatmap.html)."
   ]
  },
  {
   "cell_type": "code",
   "execution_count": 26,
   "metadata": {
    "ExecuteTime": {
     "end_time": "2020-11-27T22:13:01.648447Z",
     "start_time": "2020-11-27T22:12:59.417286Z"
    }
   },
   "outputs": [
    {
     "data": {
      "text/plain": [
       "<matplotlib.axes._subplots.AxesSubplot at 0x7f9c06c9e1d0>"
      ]
     },
     "execution_count": 26,
     "metadata": {},
     "output_type": "execute_result"
    },
    {
     "data": {
      "image/png": "[encoded data removed]",
      "text/plain": [
       "<Figure size 1440x1440 with 2 Axes>"
      ]
     },
     "metadata": {
      "needs_background": "light"
     },
     "output_type": "display_data"
    }
   ],
   "source": [
    "# Your code here\n",
    "import seaborn as sns\n",
    "plt.figure(figsize=(20,20))\n",
    "sns.heatmap(df.iloc[:,1:].corr())"
   ]
  },
  {
   "cell_type": "markdown",
   "metadata": {},
   "source": [
    "Use PCA to select a number of features in a way that you still keep 80% of your explained variance."
   ]
  },
  {
   "cell_type": "code",
   "execution_count": 27,
   "metadata": {
    "ExecuteTime": {
     "end_time": "2020-11-27T22:13:01.839712Z",
     "start_time": "2020-11-27T22:13:01.822306Z"
    }
   },
   "outputs": [
    {
     "data": {
      "text/html": [
       "<div>\n",
       "<style scoped>\n",
       "    .dataframe tbody tr th:only-of-type {\n",
       "        vertical-align: middle;\n",
       "    }\n",
       "\n",
       "    .dataframe tbody tr th {\n",
       "        vertical-align: top;\n",
       "    }\n",
       "\n",
       "    .dataframe thead th {\n",
       "        text-align: right;\n",
       "    }\n",
       "</style>\n",
       "<table border=\"1\" class=\"dataframe\">\n",
       "  <thead>\n",
       "    <tr style=\"text-align: right;\">\n",
       "      <th></th>\n",
       "      <th>id</th>\n",
       "      <th>feat_1</th>\n",
       "      <th>feat_2</th>\n",
       "      <th>feat_3</th>\n",
       "      <th>feat_4</th>\n",
       "      <th>feat_5</th>\n",
       "      <th>feat_6</th>\n",
       "      <th>feat_7</th>\n",
       "      <th>feat_8</th>\n",
       "      <th>feat_9</th>\n",
       "      <th>...</th>\n",
       "      <th>feat_85</th>\n",
       "      <th>feat_86</th>\n",
       "      <th>feat_87</th>\n",
       "      <th>feat_88</th>\n",
       "      <th>feat_89</th>\n",
       "      <th>feat_90</th>\n",
       "      <th>feat_91</th>\n",
       "      <th>feat_92</th>\n",
       "      <th>feat_93</th>\n",
       "      <th>target</th>\n",
       "    </tr>\n",
       "  </thead>\n",
       "  <tbody>\n",
       "    <tr>\n",
       "      <td>0</td>\n",
       "      <td>1</td>\n",
       "      <td>1</td>\n",
       "      <td>0</td>\n",
       "      <td>0</td>\n",
       "      <td>0</td>\n",
       "      <td>0</td>\n",
       "      <td>0</td>\n",
       "      <td>0</td>\n",
       "      <td>0</td>\n",
       "      <td>0</td>\n",
       "      <td>...</td>\n",
       "      <td>1</td>\n",
       "      <td>0</td>\n",
       "      <td>0</td>\n",
       "      <td>0</td>\n",
       "      <td>0</td>\n",
       "      <td>0</td>\n",
       "      <td>0</td>\n",
       "      <td>0</td>\n",
       "      <td>0</td>\n",
       "      <td>Class_1</td>\n",
       "    </tr>\n",
       "    <tr>\n",
       "      <td>1</td>\n",
       "      <td>2</td>\n",
       "      <td>0</td>\n",
       "      <td>0</td>\n",
       "      <td>0</td>\n",
       "      <td>0</td>\n",
       "      <td>0</td>\n",
       "      <td>0</td>\n",
       "      <td>0</td>\n",
       "      <td>1</td>\n",
       "      <td>0</td>\n",
       "      <td>...</td>\n",
       "      <td>0</td>\n",
       "      <td>0</td>\n",
       "      <td>0</td>\n",
       "      <td>0</td>\n",
       "      <td>0</td>\n",
       "      <td>0</td>\n",
       "      <td>0</td>\n",
       "      <td>0</td>\n",
       "      <td>0</td>\n",
       "      <td>Class_1</td>\n",
       "    </tr>\n",
       "    <tr>\n",
       "      <td>2</td>\n",
       "      <td>3</td>\n",
       "      <td>0</td>\n",
       "      <td>0</td>\n",
       "      <td>0</td>\n",
       "      <td>0</td>\n",
       "      <td>0</td>\n",
       "      <td>0</td>\n",
       "      <td>0</td>\n",
       "      <td>1</td>\n",
       "      <td>0</td>\n",
       "      <td>...</td>\n",
       "      <td>0</td>\n",
       "      <td>0</td>\n",
       "      <td>0</td>\n",
       "      <td>0</td>\n",
       "      <td>0</td>\n",
       "      <td>0</td>\n",
       "      <td>0</td>\n",
       "      <td>0</td>\n",
       "      <td>0</td>\n",
       "      <td>Class_1</td>\n",
       "    </tr>\n",
       "    <tr>\n",
       "      <td>3</td>\n",
       "      <td>4</td>\n",
       "      <td>1</td>\n",
       "      <td>0</td>\n",
       "      <td>0</td>\n",
       "      <td>1</td>\n",
       "      <td>6</td>\n",
       "      <td>1</td>\n",
       "      <td>5</td>\n",
       "      <td>0</td>\n",
       "      <td>0</td>\n",
       "      <td>...</td>\n",
       "      <td>0</td>\n",
       "      <td>1</td>\n",
       "      <td>2</td>\n",
       "      <td>0</td>\n",
       "      <td>0</td>\n",
       "      <td>0</td>\n",
       "      <td>0</td>\n",
       "      <td>0</td>\n",
       "      <td>0</td>\n",
       "      <td>Class_1</td>\n",
       "    </tr>\n",
       "    <tr>\n",
       "      <td>4</td>\n",
       "      <td>5</td>\n",
       "      <td>0</td>\n",
       "      <td>0</td>\n",
       "      <td>0</td>\n",
       "      <td>0</td>\n",
       "      <td>0</td>\n",
       "      <td>0</td>\n",
       "      <td>0</td>\n",
       "      <td>0</td>\n",
       "      <td>0</td>\n",
       "      <td>...</td>\n",
       "      <td>1</td>\n",
       "      <td>0</td>\n",
       "      <td>0</td>\n",
       "      <td>0</td>\n",
       "      <td>0</td>\n",
       "      <td>1</td>\n",
       "      <td>0</td>\n",
       "      <td>0</td>\n",
       "      <td>0</td>\n",
       "      <td>Class_1</td>\n",
       "    </tr>\n",
       "  </tbody>\n",
       "</table>\n",
       "<p>5 rows × 95 columns</p>\n",
       "</div>"
      ],
      "text/plain": [
       "   id  feat_1  feat_2  feat_3  feat_4  feat_5  feat_6  feat_7  feat_8  feat_9  \\\n",
       "0   1       1       0       0       0       0       0       0       0       0   \n",
       "1   2       0       0       0       0       0       0       0       1       0   \n",
       "2   3       0       0       0       0       0       0       0       1       0   \n",
       "3   4       1       0       0       1       6       1       5       0       0   \n",
       "4   5       0       0       0       0       0       0       0       0       0   \n",
       "\n",
       "   ...  feat_85  feat_86  feat_87  feat_88  feat_89  feat_90  feat_91  \\\n",
       "0  ...        1        0        0        0        0        0        0   \n",
       "1  ...        0        0        0        0        0        0        0   \n",
       "2  ...        0        0        0        0        0        0        0   \n",
       "3  ...        0        1        2        0        0        0        0   \n",
       "4  ...        1        0        0        0        0        1        0   \n",
       "\n",
       "   feat_92  feat_93   target  \n",
       "0        0        0  Class_1  \n",
       "1        0        0  Class_1  \n",
       "2        0        0  Class_1  \n",
       "3        0        0  Class_1  \n",
       "4        0        0  Class_1  \n",
       "\n",
       "[5 rows x 95 columns]"
      ]
     },
     "execution_count": 27,
     "metadata": {},
     "output_type": "execute_result"
    }
   ],
   "source": [
    "df.head()"
   ]
  },
  {
   "cell_type": "code",
   "execution_count": 28,
   "metadata": {
    "ExecuteTime": {
     "end_time": "2020-11-27T22:13:03.786706Z",
     "start_time": "2020-11-27T22:13:01.975997Z"
    }
   },
   "outputs": [
    {
     "name": "stdout",
     "output_type": "stream",
     "text": [
      "0.7275606493126962\n",
      "0.8589749504770708\n",
      "0.9794190148384644\n"
     ]
    }
   ],
   "source": [
    "# Your code here\n",
    "feats = df.loc[:, 'feat_1':'feat_93']\n",
    "pca1 = PCA(n_components=20)\n",
    "pca2 = PCA(n_components=35)\n",
    "pca3 = PCA(n_components=70)\n",
    "\n",
    "principal_comp1 = pca1.fit_transform(feats)\n",
    "principal_comp2 = pca2.fit_transform(feats)\n",
    "principal_comp3 = pca3.fit_transform(feats)\n",
    "\n",
    "print(np.sum(pca1.explained_variance_ratio_))\n",
    "print(np.sum(pca2.explained_variance_ratio_))\n",
    "print(np.sum(pca3.explained_variance_ratio_))"
   ]
  },
  {
   "cell_type": "code",
   "execution_count": 30,
   "metadata": {
    "ExecuteTime": {
     "end_time": "2020-11-27T22:18:14.794345Z",
     "start_time": "2020-11-27T22:18:14.373642Z"
    }
   },
   "outputs": [
    {
     "name": "stdout",
     "output_type": "stream",
     "text": [
      "0.8003134788522085\n"
     ]
    }
   ],
   "source": [
    "# Your code here\n",
    "pca4 = PCA(n_components=27)\n",
    "prin_comp_4 = pca4.fit_transform(feats)\n",
    "print(np.sum(pca4.explained_variance_ratio_))"
   ]
  },
  {
   "cell_type": "markdown",
   "metadata": {},
   "source": [
    "## Create a train-test split with a test size of 40%\n",
    "\n",
    "This is a relatively big training set, so you can assign 40% to the test set. Set the `random_state` to 42. "
   ]
  },
  {
   "cell_type": "code",
   "execution_count": 31,
   "metadata": {
    "ExecuteTime": {
     "end_time": "2020-11-27T22:20:20.135999Z",
     "start_time": "2020-11-27T22:20:20.079368Z"
    }
   },
   "outputs": [],
   "source": [
    "# Your code here\n",
    "from sklearn.model_selection import train_test_split\n",
    "X = feats\n",
    "y = df['target']\n",
    "X_train, X_test, y_train, y_test = train_test_split(X, y, test_size=0.4, random_state=42)"
   ]
  },
  {
   "cell_type": "code",
   "execution_count": null,
   "metadata": {},
   "outputs": [],
   "source": [
    "# Your code here"
   ]
  },
  {
   "cell_type": "markdown",
   "metadata": {},
   "source": [
    "## Create a baseline model"
   ]
  },
  {
   "cell_type": "markdown",
   "metadata": {},
   "source": [
    "Create your baseline model *in a pipeline setting*. In the pipeline: \n",
    "\n",
    "- Your first step will be to scale your features down to the number of features that ensure you keep just 80% of your explained variance (which we saw before)\n",
    "- Your second step will be to build a basic logistic regression model \n",
    "\n",
    "Make sure to fit the model using the training set and test the result by obtaining the accuracy using the test set. Set the `random_state` to 123. "
   ]
  },
  {
   "cell_type": "code",
   "execution_count": 32,
   "metadata": {
    "ExecuteTime": {
     "end_time": "2020-11-27T22:21:46.365567Z",
     "start_time": "2020-11-27T22:21:46.360072Z"
    }
   },
   "outputs": [],
   "source": [
    "# Your code here\n",
    "from sklearn.linear_model import LogisticRegression\n",
    "from sklearn.pipeline import Pipeline"
   ]
  },
  {
   "cell_type": "code",
   "execution_count": 35,
   "metadata": {
    "ExecuteTime": {
     "end_time": "2020-11-27T22:27:52.296151Z",
     "start_time": "2020-11-27T22:27:42.860173Z"
    }
   },
   "outputs": [
    {
     "name": "stdout",
     "output_type": "stream",
     "text": [
      "0.7293552036199095\n"
     ]
    }
   ],
   "source": [
    "# Your code here\n",
    "pipe1 = Pipeline([('pca', PCA(n_components=27, random_state=123)),\n",
    "                  ('logreg', LogisticRegression(random_state=123, max_iter=5000))])\n",
    "\n",
    "pipe1.fit(X_train, y_train)\n",
    "\n",
    "print(pipe1.score(X_test, y_test))"
   ]
  },
  {
   "cell_type": "code",
   "execution_count": null,
   "metadata": {},
   "outputs": [],
   "source": [
    "# Your code here"
   ]
  },
  {
   "cell_type": "markdown",
   "metadata": {},
   "source": [
    "## Create a pipeline consisting of a linear SVM, a simple decision tree, and a simple random forest classifier"
   ]
  },
  {
   "cell_type": "markdown",
   "metadata": {},
   "source": [
    "Repeat the above, but now create three different pipelines:\n",
    "- One for a standard linear SVM\n",
    "- One for a default decision tree\n",
    "- One for a random forest classifier"
   ]
  },
  {
   "cell_type": "code",
   "execution_count": 46,
   "metadata": {
    "ExecuteTime": {
     "end_time": "2020-11-27T23:07:47.539256Z",
     "start_time": "2020-11-27T23:06:24.225602Z"
    }
   },
   "outputs": [
    {
     "name": "stdout",
     "output_type": "stream",
     "text": [
      "0.671178086619263\n",
      "0.7733516483516484\n",
      "0.7536360698125404\n"
     ]
    }
   ],
   "source": [
    "# Your code here\n",
    "# ⏰ This cell may take several minutes to run\n",
    "from sklearn.tree import DecisionTreeClassifier\n",
    "from sklearn.ensemble import RandomForestClassifier\n",
    "from sklearn.svm import SVC\n",
    "\n",
    "pipe_dt = Pipeline([('pca', PCA(n_components=27, random_state=123)),\n",
    "                  ('dt', DecisionTreeClassifier(random_state=123))])\n",
    "\n",
    "pipe_dt.fit(X_train, y_train)\n",
    "\n",
    "print(pipe_dt.score(X_test, y_test))\n",
    "      \n",
    "pipe_rfc = Pipeline([('pca', PCA(n_components=27, random_state=123)),\n",
    "                  ('rfc', RandomForestClassifier(random_state=123))])\n",
    "\n",
    "pipe_rfc.fit(X_train, y_train)\n",
    "\n",
    "print(pipe_rfc.score(X_test, y_test))\n",
    "      \n",
    "pipe_SVC = Pipeline([('pca', PCA(n_components=27, random_state=123)),\n",
    "                  ('svc', SVC(random_state=123))])\n",
    "\n",
    "pipe_SVC.fit(X_train, y_train)\n",
    "\n",
    "print(pipe_SVC.score(X_test, y_test))"
   ]
  },
  {
   "cell_type": "markdown",
   "metadata": {},
   "source": [
    "## Pipeline with grid search"
   ]
  },
  {
   "cell_type": "markdown",
   "metadata": {},
   "source": [
    "Construct two pipelines with grid search:\n",
    "- one for random forests - try to have around 40 different models\n",
    "- one for the AdaBoost algorithm "
   ]
  },
  {
   "cell_type": "markdown",
   "metadata": {},
   "source": [
    "### Random Forest pipeline with grid search"
   ]
  },
  {
   "cell_type": "code",
   "execution_count": 47,
   "metadata": {
    "ExecuteTime": {
     "end_time": "2020-11-27T23:08:06.099177Z",
     "start_time": "2020-11-27T23:08:06.056649Z"
    }
   },
   "outputs": [],
   "source": [
    "# Your code here \n",
    "# imports\n",
    "from sklearn.model_selection import GridSearchCV\n",
    "\n",
    "pipe_rfc = Pipeline([('pca', PCA(n_components=27, random_state=123)),\n",
    "                  ('rfc', RandomForestClassifier(random_state=123))])\n",
    "\n",
    "\n",
    "param_grid_forest = [ \n",
    "  {'rfc__n_estimators': [120],\n",
    "   'rfc__criterion': ['entropy', 'gini'], \n",
    "   'rfc__max_depth': [4, 5, 6],  \n",
    "   'rfc__min_samples_leaf':[0.05 ,0.1, 0.2],  \n",
    "   'rfc__min_samples_split':[0.05 ,0.1, 0.2]\n",
    "  }\n",
    "]\n",
    "\n"
   ]
  },
  {
   "cell_type": "code",
   "execution_count": 52,
   "metadata": {
    "ExecuteTime": {
     "end_time": "2020-11-27T23:30:46.501648Z",
     "start_time": "2020-11-27T23:18:09.624667Z"
    }
   },
   "outputs": [
    {
     "name": "stdout",
     "output_type": "stream",
     "text": [
      "Fitting 5 folds for each of 54 candidates, totalling 270 fits\n"
     ]
    },
    {
     "name": "stderr",
     "output_type": "stream",
     "text": [
      "[Parallel(n_jobs=-1)]: Using backend LokyBackend with 4 concurrent workers.\n",
      "[Parallel(n_jobs=-1)]: Done  33 tasks      | elapsed:  2.2min\n",
      "[Parallel(n_jobs=-1)]: Done 154 tasks      | elapsed:  8.4min\n",
      "[Parallel(n_jobs=-1)]: Done 270 out of 270 | elapsed: 12.4min finished\n"
     ]
    },
    {
     "name": "stdout",
     "output_type": "stream",
     "text": [
      "Best Accuracy:0.6228786473224932\n",
      "Best Params:{'rfc__criterion': 'entropy', 'rfc__max_depth': 6, 'rfc__min_samples_leaf': 0.05, 'rfc__min_samples_split': 0.05, 'rfc__n_estimators': 120}\n"
     ]
    }
   ],
   "source": [
    "# Your code here\n",
    "# ⏰ This cell may take a long time to run!\n",
    "grid_rfc = GridSearchCV(estimator=pipe_rfc, param_grid=param_grid_forest, cv=5, scoring='accuracy', verbose=2,\n",
    "                       return_train_score=True, n_jobs=-1)\n",
    "\n",
    "grid_rfc.fit(X_train, y_train)\n",
    "\n",
    "print(f'Best Accuracy:{grid_rfc.best_score_}')\n",
    "\n",
    "print(f'Best Params:{grid_rfc.best_params_}')"
   ]
  },
  {
   "cell_type": "markdown",
   "metadata": {},
   "source": [
    "Use your grid search object along with `.cv_results` to get the full result overview"
   ]
  },
  {
   "cell_type": "code",
   "execution_count": 53,
   "metadata": {
    "ExecuteTime": {
     "end_time": "2020-11-27T23:30:46.868594Z",
     "start_time": "2020-11-27T23:30:46.843896Z"
    }
   },
   "outputs": [
    {
     "data": {
      "text/plain": [
       "{'mean_fit_time': array([19.15200858, 19.711695  , 17.04155531, 12.3747407 , 12.72524643,\n",
       "        12.60306401,  6.13870544,  6.3751132 ,  6.27285037, 19.92065153,\n",
       "        19.61604266, 16.79480762, 12.23822126, 12.55898294, 12.3925478 ,\n",
       "         6.025525  ,  6.11809387,  6.14331717, 19.87369652, 19.7048944 ,\n",
       "        16.58759727, 12.17472548, 12.14457717, 12.4490469 ,  6.07397838,\n",
       "         6.18752737,  6.13158998, 10.3879035 , 10.43790774,  9.27000422,\n",
       "         7.81859379,  7.90203242,  7.87849293,  4.90657749,  4.97535782,\n",
       "         4.95622263, 11.44754763, 11.2188796 ,  9.41762314,  7.84316096,\n",
       "         7.81013203,  8.01940522,  5.04000549,  5.00075679,  5.1378912 ,\n",
       "        11.49063907, 11.39511051,  9.42555461,  7.77319493,  7.82325759,\n",
       "         7.89456668,  4.86285434,  4.89282103,  4.55373216]),\n",
       " 'std_fit_time': array([0.39877479, 0.34341524, 0.22295225, 0.28995559, 0.11983788,\n",
       "        0.16566621, 0.14074649, 0.13469902, 0.11998464, 0.24299493,\n",
       "        0.30041463, 0.49042175, 0.32218219, 0.12641477, 0.24758665,\n",
       "        0.1278814 , 0.09622814, 0.10396154, 0.32718751, 0.32679545,\n",
       "        0.45008518, 0.35799186, 0.16652965, 0.2887968 , 0.08562306,\n",
       "        0.16067684, 0.088288  , 0.06474309, 0.08205251, 0.15353852,\n",
       "        0.19204012, 0.13919892, 0.1295933 , 0.15916863, 0.14745752,\n",
       "        0.09930487, 0.07888809, 0.15004735, 0.18518266, 0.19852898,\n",
       "        0.1779294 , 0.29709765, 0.05892358, 0.10925448, 0.13235984,\n",
       "        0.13224349, 0.20274507, 0.24490712, 0.20764748, 0.16987684,\n",
       "        0.15156762, 0.14732287, 0.09443647, 0.56330974]),\n",
       " 'mean_score_time': array([0.19215527, 0.18774843, 0.17352834, 0.17108941, 0.17876182,\n",
       "        0.17536597, 0.16536937, 0.17212157, 0.1659019 , 0.18201151,\n",
       "        0.18971305, 0.17026157, 0.17514472, 0.170647  , 0.17391758,\n",
       "        0.16124125, 0.1686048 , 0.16452427, 0.18362665, 0.18312464,\n",
       "        0.17072382, 0.16965494, 0.17317929, 0.17551656, 0.16213927,\n",
       "        0.17171626, 0.17470613, 0.18593407, 0.19805489, 0.18062897,\n",
       "        0.18550096, 0.19219522, 0.20092449, 0.18061514, 0.18055601,\n",
       "        0.17285004, 0.18963537, 0.19748602, 0.17945132, 0.19129353,\n",
       "        0.18416839, 0.19786119, 0.17361126, 0.21035056, 0.17221856,\n",
       "        0.19062805, 0.19284253, 0.18172927, 0.19167466, 0.18416476,\n",
       "        0.19076986, 0.17075229, 0.17368174, 0.13461585]),\n",
       " 'std_score_time': array([0.014826  , 0.01369051, 0.00489328, 0.00390574, 0.00705182,\n",
       "        0.00236207, 0.00545046, 0.0109786 , 0.0051767 , 0.0043945 ,\n",
       "        0.00858086, 0.00376941, 0.00825154, 0.0024121 , 0.00391699,\n",
       "        0.00417628, 0.00861906, 0.00301158, 0.00204285, 0.00822684,\n",
       "        0.00303171, 0.0050951 , 0.00527753, 0.00347886, 0.00380617,\n",
       "        0.0110216 , 0.01273658, 0.00400272, 0.00471092, 0.00465892,\n",
       "        0.0093703 , 0.01325766, 0.02120604, 0.00707661, 0.01213019,\n",
       "        0.00543948, 0.00357747, 0.00645217, 0.00228149, 0.01504542,\n",
       "        0.00821866, 0.01140573, 0.00275493, 0.05471506, 0.00364788,\n",
       "        0.00453776, 0.00714951, 0.00360897, 0.01259823, 0.00599432,\n",
       "        0.01146712, 0.00154954, 0.00188234, 0.03592131]),\n",
       " 'param_rfc__criterion': masked_array(data=['entropy', 'entropy', 'entropy', 'entropy', 'entropy',\n",
       "                    'entropy', 'entropy', 'entropy', 'entropy', 'entropy',\n",
       "                    'entropy', 'entropy', 'entropy', 'entropy', 'entropy',\n",
       "                    'entropy', 'entropy', 'entropy', 'entropy', 'entropy',\n",
       "                    'entropy', 'entropy', 'entropy', 'entropy', 'entropy',\n",
       "                    'entropy', 'entropy', 'gini', 'gini', 'gini', 'gini',\n",
       "                    'gini', 'gini', 'gini', 'gini', 'gini', 'gini', 'gini',\n",
       "                    'gini', 'gini', 'gini', 'gini', 'gini', 'gini', 'gini',\n",
       "                    'gini', 'gini', 'gini', 'gini', 'gini', 'gini', 'gini',\n",
       "                    'gini', 'gini'],\n",
       "              mask=[False, False, False, False, False, False, False, False,\n",
       "                    False, False, False, False, False, False, False, False,\n",
       "                    False, False, False, False, False, False, False, False,\n",
       "                    False, False, False, False, False, False, False, False,\n",
       "                    False, False, False, False, False, False, False, False,\n",
       "                    False, False, False, False, False, False, False, False,\n",
       "                    False, False, False, False, False, False],\n",
       "        fill_value='?',\n",
       "             dtype=object),\n",
       " 'param_rfc__max_depth': masked_array(data=[4, 4, 4, 4, 4, 4, 4, 4, 4, 5, 5, 5, 5, 5, 5, 5, 5, 5,\n",
       "                    6, 6, 6, 6, 6, 6, 6, 6, 6, 4, 4, 4, 4, 4, 4, 4, 4, 4,\n",
       "                    5, 5, 5, 5, 5, 5, 5, 5, 5, 6, 6, 6, 6, 6, 6, 6, 6, 6],\n",
       "              mask=[False, False, False, False, False, False, False, False,\n",
       "                    False, False, False, False, False, False, False, False,\n",
       "                    False, False, False, False, False, False, False, False,\n",
       "                    False, False, False, False, False, False, False, False,\n",
       "                    False, False, False, False, False, False, False, False,\n",
       "                    False, False, False, False, False, False, False, False,\n",
       "                    False, False, False, False, False, False],\n",
       "        fill_value='?',\n",
       "             dtype=object),\n",
       " 'param_rfc__min_samples_leaf': masked_array(data=[0.05, 0.05, 0.05, 0.1, 0.1, 0.1, 0.2, 0.2, 0.2, 0.05,\n",
       "                    0.05, 0.05, 0.1, 0.1, 0.1, 0.2, 0.2, 0.2, 0.05, 0.05,\n",
       "                    0.05, 0.1, 0.1, 0.1, 0.2, 0.2, 0.2, 0.05, 0.05, 0.05,\n",
       "                    0.1, 0.1, 0.1, 0.2, 0.2, 0.2, 0.05, 0.05, 0.05, 0.1,\n",
       "                    0.1, 0.1, 0.2, 0.2, 0.2, 0.05, 0.05, 0.05, 0.1, 0.1,\n",
       "                    0.1, 0.2, 0.2, 0.2],\n",
       "              mask=[False, False, False, False, False, False, False, False,\n",
       "                    False, False, False, False, False, False, False, False,\n",
       "                    False, False, False, False, False, False, False, False,\n",
       "                    False, False, False, False, False, False, False, False,\n",
       "                    False, False, False, False, False, False, False, False,\n",
       "                    False, False, False, False, False, False, False, False,\n",
       "                    False, False, False, False, False, False],\n",
       "        fill_value='?',\n",
       "             dtype=object),\n",
       " 'param_rfc__min_samples_split': masked_array(data=[0.05, 0.1, 0.2, 0.05, 0.1, 0.2, 0.05, 0.1, 0.2, 0.05,\n",
       "                    0.1, 0.2, 0.05, 0.1, 0.2, 0.05, 0.1, 0.2, 0.05, 0.1,\n",
       "                    0.2, 0.05, 0.1, 0.2, 0.05, 0.1, 0.2, 0.05, 0.1, 0.2,\n",
       "                    0.05, 0.1, 0.2, 0.05, 0.1, 0.2, 0.05, 0.1, 0.2, 0.05,\n",
       "                    0.1, 0.2, 0.05, 0.1, 0.2, 0.05, 0.1, 0.2, 0.05, 0.1,\n",
       "                    0.2, 0.05, 0.1, 0.2],\n",
       "              mask=[False, False, False, False, False, False, False, False,\n",
       "                    False, False, False, False, False, False, False, False,\n",
       "                    False, False, False, False, False, False, False, False,\n",
       "                    False, False, False, False, False, False, False, False,\n",
       "                    False, False, False, False, False, False, False, False,\n",
       "                    False, False, False, False, False, False, False, False,\n",
       "                    False, False, False, False, False, False],\n",
       "        fill_value='?',\n",
       "             dtype=object),\n",
       " 'param_rfc__n_estimators': masked_array(data=[120, 120, 120, 120, 120, 120, 120, 120, 120, 120, 120,\n",
       "                    120, 120, 120, 120, 120, 120, 120, 120, 120, 120, 120,\n",
       "                    120, 120, 120, 120, 120, 120, 120, 120, 120, 120, 120,\n",
       "                    120, 120, 120, 120, 120, 120, 120, 120, 120, 120, 120,\n",
       "                    120, 120, 120, 120, 120, 120, 120, 120, 120, 120],\n",
       "              mask=[False, False, False, False, False, False, False, False,\n",
       "                    False, False, False, False, False, False, False, False,\n",
       "                    False, False, False, False, False, False, False, False,\n",
       "                    False, False, False, False, False, False, False, False,\n",
       "                    False, False, False, False, False, False, False, False,\n",
       "                    False, False, False, False, False, False, False, False,\n",
       "                    False, False, False, False, False, False],\n",
       "        fill_value='?',\n",
       "             dtype=object),\n",
       " 'params': [{'rfc__criterion': 'entropy',\n",
       "   'rfc__max_depth': 4,\n",
       "   'rfc__min_samples_leaf': 0.05,\n",
       "   'rfc__min_samples_split': 0.05,\n",
       "   'rfc__n_estimators': 120},\n",
       "  {'rfc__criterion': 'entropy',\n",
       "   'rfc__max_depth': 4,\n",
       "   'rfc__min_samples_leaf': 0.05,\n",
       "   'rfc__min_samples_split': 0.1,\n",
       "   'rfc__n_estimators': 120},\n",
       "  {'rfc__criterion': 'entropy',\n",
       "   'rfc__max_depth': 4,\n",
       "   'rfc__min_samples_leaf': 0.05,\n",
       "   'rfc__min_samples_split': 0.2,\n",
       "   'rfc__n_estimators': 120},\n",
       "  {'rfc__criterion': 'entropy',\n",
       "   'rfc__max_depth': 4,\n",
       "   'rfc__min_samples_leaf': 0.1,\n",
       "   'rfc__min_samples_split': 0.05,\n",
       "   'rfc__n_estimators': 120},\n",
       "  {'rfc__criterion': 'entropy',\n",
       "   'rfc__max_depth': 4,\n",
       "   'rfc__min_samples_leaf': 0.1,\n",
       "   'rfc__min_samples_split': 0.1,\n",
       "   'rfc__n_estimators': 120},\n",
       "  {'rfc__criterion': 'entropy',\n",
       "   'rfc__max_depth': 4,\n",
       "   'rfc__min_samples_leaf': 0.1,\n",
       "   'rfc__min_samples_split': 0.2,\n",
       "   'rfc__n_estimators': 120},\n",
       "  {'rfc__criterion': 'entropy',\n",
       "   'rfc__max_depth': 4,\n",
       "   'rfc__min_samples_leaf': 0.2,\n",
       "   'rfc__min_samples_split': 0.05,\n",
       "   'rfc__n_estimators': 120},\n",
       "  {'rfc__criterion': 'entropy',\n",
       "   'rfc__max_depth': 4,\n",
       "   'rfc__min_samples_leaf': 0.2,\n",
       "   'rfc__min_samples_split': 0.1,\n",
       "   'rfc__n_estimators': 120},\n",
       "  {'rfc__criterion': 'entropy',\n",
       "   'rfc__max_depth': 4,\n",
       "   'rfc__min_samples_leaf': 0.2,\n",
       "   'rfc__min_samples_split': 0.2,\n",
       "   'rfc__n_estimators': 120},\n",
       "  {'rfc__criterion': 'entropy',\n",
       "   'rfc__max_depth': 5,\n",
       "   'rfc__min_samples_leaf': 0.05,\n",
       "   'rfc__min_samples_split': 0.05,\n",
       "   'rfc__n_estimators': 120},\n",
       "  {'rfc__criterion': 'entropy',\n",
       "   'rfc__max_depth': 5,\n",
       "   'rfc__min_samples_leaf': 0.05,\n",
       "   'rfc__min_samples_split': 0.1,\n",
       "   'rfc__n_estimators': 120},\n",
       "  {'rfc__criterion': 'entropy',\n",
       "   'rfc__max_depth': 5,\n",
       "   'rfc__min_samples_leaf': 0.05,\n",
       "   'rfc__min_samples_split': 0.2,\n",
       "   'rfc__n_estimators': 120},\n",
       "  {'rfc__criterion': 'entropy',\n",
       "   'rfc__max_depth': 5,\n",
       "   'rfc__min_samples_leaf': 0.1,\n",
       "   'rfc__min_samples_split': 0.05,\n",
       "   'rfc__n_estimators': 120},\n",
       "  {'rfc__criterion': 'entropy',\n",
       "   'rfc__max_depth': 5,\n",
       "   'rfc__min_samples_leaf': 0.1,\n",
       "   'rfc__min_samples_split': 0.1,\n",
       "   'rfc__n_estimators': 120},\n",
       "  {'rfc__criterion': 'entropy',\n",
       "   'rfc__max_depth': 5,\n",
       "   'rfc__min_samples_leaf': 0.1,\n",
       "   'rfc__min_samples_split': 0.2,\n",
       "   'rfc__n_estimators': 120},\n",
       "  {'rfc__criterion': 'entropy',\n",
       "   'rfc__max_depth': 5,\n",
       "   'rfc__min_samples_leaf': 0.2,\n",
       "   'rfc__min_samples_split': 0.05,\n",
       "   'rfc__n_estimators': 120},\n",
       "  {'rfc__criterion': 'entropy',\n",
       "   'rfc__max_depth': 5,\n",
       "   'rfc__min_samples_leaf': 0.2,\n",
       "   'rfc__min_samples_split': 0.1,\n",
       "   'rfc__n_estimators': 120},\n",
       "  {'rfc__criterion': 'entropy',\n",
       "   'rfc__max_depth': 5,\n",
       "   'rfc__min_samples_leaf': 0.2,\n",
       "   'rfc__min_samples_split': 0.2,\n",
       "   'rfc__n_estimators': 120},\n",
       "  {'rfc__criterion': 'entropy',\n",
       "   'rfc__max_depth': 6,\n",
       "   'rfc__min_samples_leaf': 0.05,\n",
       "   'rfc__min_samples_split': 0.05,\n",
       "   'rfc__n_estimators': 120},\n",
       "  {'rfc__criterion': 'entropy',\n",
       "   'rfc__max_depth': 6,\n",
       "   'rfc__min_samples_leaf': 0.05,\n",
       "   'rfc__min_samples_split': 0.1,\n",
       "   'rfc__n_estimators': 120},\n",
       "  {'rfc__criterion': 'entropy',\n",
       "   'rfc__max_depth': 6,\n",
       "   'rfc__min_samples_leaf': 0.05,\n",
       "   'rfc__min_samples_split': 0.2,\n",
       "   'rfc__n_estimators': 120},\n",
       "  {'rfc__criterion': 'entropy',\n",
       "   'rfc__max_depth': 6,\n",
       "   'rfc__min_samples_leaf': 0.1,\n",
       "   'rfc__min_samples_split': 0.05,\n",
       "   'rfc__n_estimators': 120},\n",
       "  {'rfc__criterion': 'entropy',\n",
       "   'rfc__max_depth': 6,\n",
       "   'rfc__min_samples_leaf': 0.1,\n",
       "   'rfc__min_samples_split': 0.1,\n",
       "   'rfc__n_estimators': 120},\n",
       "  {'rfc__criterion': 'entropy',\n",
       "   'rfc__max_depth': 6,\n",
       "   'rfc__min_samples_leaf': 0.1,\n",
       "   'rfc__min_samples_split': 0.2,\n",
       "   'rfc__n_estimators': 120},\n",
       "  {'rfc__criterion': 'entropy',\n",
       "   'rfc__max_depth': 6,\n",
       "   'rfc__min_samples_leaf': 0.2,\n",
       "   'rfc__min_samples_split': 0.05,\n",
       "   'rfc__n_estimators': 120},\n",
       "  {'rfc__criterion': 'entropy',\n",
       "   'rfc__max_depth': 6,\n",
       "   'rfc__min_samples_leaf': 0.2,\n",
       "   'rfc__min_samples_split': 0.1,\n",
       "   'rfc__n_estimators': 120},\n",
       "  {'rfc__criterion': 'entropy',\n",
       "   'rfc__max_depth': 6,\n",
       "   'rfc__min_samples_leaf': 0.2,\n",
       "   'rfc__min_samples_split': 0.2,\n",
       "   'rfc__n_estimators': 120},\n",
       "  {'rfc__criterion': 'gini',\n",
       "   'rfc__max_depth': 4,\n",
       "   'rfc__min_samples_leaf': 0.05,\n",
       "   'rfc__min_samples_split': 0.05,\n",
       "   'rfc__n_estimators': 120},\n",
       "  {'rfc__criterion': 'gini',\n",
       "   'rfc__max_depth': 4,\n",
       "   'rfc__min_samples_leaf': 0.05,\n",
       "   'rfc__min_samples_split': 0.1,\n",
       "   'rfc__n_estimators': 120},\n",
       "  {'rfc__criterion': 'gini',\n",
       "   'rfc__max_depth': 4,\n",
       "   'rfc__min_samples_leaf': 0.05,\n",
       "   'rfc__min_samples_split': 0.2,\n",
       "   'rfc__n_estimators': 120},\n",
       "  {'rfc__criterion': 'gini',\n",
       "   'rfc__max_depth': 4,\n",
       "   'rfc__min_samples_leaf': 0.1,\n",
       "   'rfc__min_samples_split': 0.05,\n",
       "   'rfc__n_estimators': 120},\n",
       "  {'rfc__criterion': 'gini',\n",
       "   'rfc__max_depth': 4,\n",
       "   'rfc__min_samples_leaf': 0.1,\n",
       "   'rfc__min_samples_split': 0.1,\n",
       "   'rfc__n_estimators': 120},\n",
       "  {'rfc__criterion': 'gini',\n",
       "   'rfc__max_depth': 4,\n",
       "   'rfc__min_samples_leaf': 0.1,\n",
       "   'rfc__min_samples_split': 0.2,\n",
       "   'rfc__n_estimators': 120},\n",
       "  {'rfc__criterion': 'gini',\n",
       "   'rfc__max_depth': 4,\n",
       "   'rfc__min_samples_leaf': 0.2,\n",
       "   'rfc__min_samples_split': 0.05,\n",
       "   'rfc__n_estimators': 120},\n",
       "  {'rfc__criterion': 'gini',\n",
       "   'rfc__max_depth': 4,\n",
       "   'rfc__min_samples_leaf': 0.2,\n",
       "   'rfc__min_samples_split': 0.1,\n",
       "   'rfc__n_estimators': 120},\n",
       "  {'rfc__criterion': 'gini',\n",
       "   'rfc__max_depth': 4,\n",
       "   'rfc__min_samples_leaf': 0.2,\n",
       "   'rfc__min_samples_split': 0.2,\n",
       "   'rfc__n_estimators': 120},\n",
       "  {'rfc__criterion': 'gini',\n",
       "   'rfc__max_depth': 5,\n",
       "   'rfc__min_samples_leaf': 0.05,\n",
       "   'rfc__min_samples_split': 0.05,\n",
       "   'rfc__n_estimators': 120},\n",
       "  {'rfc__criterion': 'gini',\n",
       "   'rfc__max_depth': 5,\n",
       "   'rfc__min_samples_leaf': 0.05,\n",
       "   'rfc__min_samples_split': 0.1,\n",
       "   'rfc__n_estimators': 120},\n",
       "  {'rfc__criterion': 'gini',\n",
       "   'rfc__max_depth': 5,\n",
       "   'rfc__min_samples_leaf': 0.05,\n",
       "   'rfc__min_samples_split': 0.2,\n",
       "   'rfc__n_estimators': 120},\n",
       "  {'rfc__criterion': 'gini',\n",
       "   'rfc__max_depth': 5,\n",
       "   'rfc__min_samples_leaf': 0.1,\n",
       "   'rfc__min_samples_split': 0.05,\n",
       "   'rfc__n_estimators': 120},\n",
       "  {'rfc__criterion': 'gini',\n",
       "   'rfc__max_depth': 5,\n",
       "   'rfc__min_samples_leaf': 0.1,\n",
       "   'rfc__min_samples_split': 0.1,\n",
       "   'rfc__n_estimators': 120},\n",
       "  {'rfc__criterion': 'gini',\n",
       "   'rfc__max_depth': 5,\n",
       "   'rfc__min_samples_leaf': 0.1,\n",
       "   'rfc__min_samples_split': 0.2,\n",
       "   'rfc__n_estimators': 120},\n",
       "  {'rfc__criterion': 'gini',\n",
       "   'rfc__max_depth': 5,\n",
       "   'rfc__min_samples_leaf': 0.2,\n",
       "   'rfc__min_samples_split': 0.05,\n",
       "   'rfc__n_estimators': 120},\n",
       "  {'rfc__criterion': 'gini',\n",
       "   'rfc__max_depth': 5,\n",
       "   'rfc__min_samples_leaf': 0.2,\n",
       "   'rfc__min_samples_split': 0.1,\n",
       "   'rfc__n_estimators': 120},\n",
       "  {'rfc__criterion': 'gini',\n",
       "   'rfc__max_depth': 5,\n",
       "   'rfc__min_samples_leaf': 0.2,\n",
       "   'rfc__min_samples_split': 0.2,\n",
       "   'rfc__n_estimators': 120},\n",
       "  {'rfc__criterion': 'gini',\n",
       "   'rfc__max_depth': 6,\n",
       "   'rfc__min_samples_leaf': 0.05,\n",
       "   'rfc__min_samples_split': 0.05,\n",
       "   'rfc__n_estimators': 120},\n",
       "  {'rfc__criterion': 'gini',\n",
       "   'rfc__max_depth': 6,\n",
       "   'rfc__min_samples_leaf': 0.05,\n",
       "   'rfc__min_samples_split': 0.1,\n",
       "   'rfc__n_estimators': 120},\n",
       "  {'rfc__criterion': 'gini',\n",
       "   'rfc__max_depth': 6,\n",
       "   'rfc__min_samples_leaf': 0.05,\n",
       "   'rfc__min_samples_split': 0.2,\n",
       "   'rfc__n_estimators': 120},\n",
       "  {'rfc__criterion': 'gini',\n",
       "   'rfc__max_depth': 6,\n",
       "   'rfc__min_samples_leaf': 0.1,\n",
       "   'rfc__min_samples_split': 0.05,\n",
       "   'rfc__n_estimators': 120},\n",
       "  {'rfc__criterion': 'gini',\n",
       "   'rfc__max_depth': 6,\n",
       "   'rfc__min_samples_leaf': 0.1,\n",
       "   'rfc__min_samples_split': 0.1,\n",
       "   'rfc__n_estimators': 120},\n",
       "  {'rfc__criterion': 'gini',\n",
       "   'rfc__max_depth': 6,\n",
       "   'rfc__min_samples_leaf': 0.1,\n",
       "   'rfc__min_samples_split': 0.2,\n",
       "   'rfc__n_estimators': 120},\n",
       "  {'rfc__criterion': 'gini',\n",
       "   'rfc__max_depth': 6,\n",
       "   'rfc__min_samples_leaf': 0.2,\n",
       "   'rfc__min_samples_split': 0.05,\n",
       "   'rfc__n_estimators': 120},\n",
       "  {'rfc__criterion': 'gini',\n",
       "   'rfc__max_depth': 6,\n",
       "   'rfc__min_samples_leaf': 0.2,\n",
       "   'rfc__min_samples_split': 0.1,\n",
       "   'rfc__n_estimators': 120},\n",
       "  {'rfc__criterion': 'gini',\n",
       "   'rfc__max_depth': 6,\n",
       "   'rfc__min_samples_leaf': 0.2,\n",
       "   'rfc__min_samples_split': 0.2,\n",
       "   'rfc__n_estimators': 120}],\n",
       " 'split0_test_score': array([0.62361971, 0.62361971, 0.55709669, 0.50902235, 0.50902235,\n",
       "        0.50902235, 0.43576623, 0.43576623, 0.43576623, 0.62833288,\n",
       "        0.62833288, 0.55750067, 0.50888769, 0.50888769, 0.50888769,\n",
       "        0.43576623, 0.43576623, 0.43576623, 0.63021815, 0.63021815,\n",
       "        0.55763534, 0.50888769, 0.50888769, 0.50888769, 0.43576623,\n",
       "        0.43576623, 0.43576623, 0.62038783, 0.62038783, 0.57177485,\n",
       "        0.51508214, 0.51508214, 0.51508214, 0.43886345, 0.43886345,\n",
       "        0.43886345, 0.62321573, 0.62321573, 0.57783464, 0.51494748,\n",
       "        0.51494748, 0.51494748, 0.43886345, 0.43886345, 0.43886345,\n",
       "        0.62873687, 0.62873687, 0.5779693 , 0.51494748, 0.51494748,\n",
       "        0.51494748, 0.43886345, 0.43886345, 0.43886345]),\n",
       " 'split1_test_score': array([0.62060606, 0.62060606, 0.56013468, 0.49185185, 0.49185185,\n",
       "        0.49185185, 0.44861953, 0.44861953, 0.44861953, 0.62397306,\n",
       "        0.62397306, 0.56215488, 0.49171717, 0.49171717, 0.49171717,\n",
       "        0.44861953, 0.44861953, 0.44861953, 0.62639731, 0.62639731,\n",
       "        0.56188552, 0.49171717, 0.49171717, 0.49171717, 0.44861953,\n",
       "        0.44861953, 0.44861953, 0.61616162, 0.61616162, 0.54787879,\n",
       "        0.49010101, 0.49010101, 0.49010101, 0.44673401, 0.44673401,\n",
       "        0.44673401, 0.62222222, 0.62222222, 0.55515152, 0.49077441,\n",
       "        0.49077441, 0.49077441, 0.44673401, 0.44673401, 0.44673401,\n",
       "        0.62707071, 0.62707071, 0.55649832, 0.49077441, 0.49077441,\n",
       "        0.49077441, 0.44673401, 0.44673401, 0.44673401]),\n",
       " 'split2_test_score': array([0.61656566, 0.61656566, 0.57023569, 0.49265993, 0.49265993,\n",
       "        0.49265993, 0.44821549, 0.44821549, 0.44821549, 0.62074074,\n",
       "        0.62074074, 0.5762963 , 0.49292929, 0.49292929, 0.49292929,\n",
       "        0.44821549, 0.44821549, 0.44821549, 0.62074074, 0.62074074,\n",
       "        0.57616162, 0.49292929, 0.49292929, 0.49292929, 0.44821549,\n",
       "        0.44821549, 0.44821549, 0.60026936, 0.60026936, 0.55232323,\n",
       "        0.49521886, 0.49521886, 0.49521886, 0.44363636, 0.44363636,\n",
       "        0.44363636, 0.60902357, 0.60902357, 0.56498316, 0.49535354,\n",
       "        0.49535354, 0.49535354, 0.44363636, 0.44363636, 0.44363636,\n",
       "        0.61265993, 0.61265993, 0.56606061, 0.49535354, 0.49535354,\n",
       "        0.49535354, 0.44363636, 0.44363636, 0.44363636]),\n",
       " 'split3_test_score': array([0.61306397, 0.61306397, 0.56700337, 0.48942761, 0.48942761,\n",
       "        0.48942761, 0.44161616, 0.44161616, 0.44161616, 0.61993266,\n",
       "        0.61993266, 0.56740741, 0.48942761, 0.48942761, 0.48942761,\n",
       "        0.44161616, 0.44161616, 0.44161616, 0.62087542, 0.62087542,\n",
       "        0.56861953, 0.48942761, 0.48942761, 0.48942761, 0.44161616,\n",
       "        0.44161616, 0.44161616, 0.62060606, 0.62060606, 0.58410774,\n",
       "        0.50895623, 0.50895623, 0.50895623, 0.44161616, 0.44161616,\n",
       "        0.44161616, 0.63043771, 0.63043771, 0.58626263, 0.50895623,\n",
       "        0.50895623, 0.50895623, 0.44161616, 0.44161616, 0.44161616,\n",
       "        0.63420875, 0.63420875, 0.58666667, 0.50895623, 0.50895623,\n",
       "        0.50895623, 0.44161616, 0.44161616, 0.44161616]),\n",
       " 'split4_test_score': array([0.61158249, 0.61158249, 0.54747475, 0.49939394, 0.49939394,\n",
       "        0.49939394, 0.44646465, 0.44646465, 0.44646465, 0.61575758,\n",
       "        0.61575758, 0.55111111, 0.49939394, 0.49939394, 0.49939394,\n",
       "        0.44646465, 0.44646465, 0.44646465, 0.61616162, 0.61616162,\n",
       "        0.55138047, 0.49939394, 0.49939394, 0.49939394, 0.44646465,\n",
       "        0.44646465, 0.44646465, 0.58720539, 0.58720539, 0.51838384,\n",
       "        0.48781145, 0.48781145, 0.48781145, 0.44282828, 0.44282828,\n",
       "        0.44282828, 0.60282828, 0.60282828, 0.53400673, 0.48875421,\n",
       "        0.48875421, 0.48875421, 0.44282828, 0.44282828, 0.44282828,\n",
       "        0.61063973, 0.61063973, 0.53589226, 0.48875421, 0.48875421,\n",
       "        0.48875421, 0.44282828, 0.44282828, 0.44282828]),\n",
       " 'mean_test_score': array([0.61708758, 0.61708758, 0.56038903, 0.49647114, 0.49647114,\n",
       "        0.49647114, 0.44413641, 0.44413641, 0.44413641, 0.62174738,\n",
       "        0.62174738, 0.56289407, 0.49647114, 0.49647114, 0.49647114,\n",
       "        0.44413641, 0.44413641, 0.44413641, 0.62287865, 0.62287865,\n",
       "        0.56313649, 0.49647114, 0.49647114, 0.49647114, 0.44413641,\n",
       "        0.44413641, 0.44413641, 0.60892605, 0.60892605, 0.55489369,\n",
       "        0.49943394, 0.49943394, 0.49943394, 0.44273565, 0.44273565,\n",
       "        0.44273565, 0.6175455 , 0.6175455 , 0.56364774, 0.49975717,\n",
       "        0.49975717, 0.49975717, 0.44273565, 0.44273565, 0.44273565,\n",
       "        0.6226632 , 0.6226632 , 0.56461743, 0.49975717, 0.49975717,\n",
       "        0.49975717, 0.44273565, 0.44273565, 0.44273565]),\n",
       " 'std_test_score': array([0.00451257, 0.00451257, 0.00797984, 0.00709296, 0.00709296,\n",
       "        0.00709296, 0.00486969, 0.00486969, 0.00486969, 0.0042073 ,\n",
       "        0.0042073 , 0.00858444, 0.00703519, 0.00703519, 0.00703519,\n",
       "        0.00486969, 0.00486969, 0.00486969, 0.00489799, 0.00489799,\n",
       "        0.00859941, 0.00703519, 0.00703519, 0.00703519, 0.00486969,\n",
       "        0.00486969, 0.00486969, 0.01316719, 0.01316719, 0.02248208,\n",
       "        0.0107284 , 0.0107284 , 0.0107284 , 0.00257114, 0.00257114,\n",
       "        0.00257114, 0.01009408, 0.01009408, 0.01824971, 0.01035872,\n",
       "        0.01035872, 0.01035872, 0.00257114, 0.00257114, 0.00257114,\n",
       "        0.00931928, 0.00931928, 0.01764981, 0.01035872, 0.01035872,\n",
       "        0.01035872, 0.00257114, 0.00257114, 0.00257114]),\n",
       " 'rank_test_score': array([ 9,  9, 17, 34, 34, 34, 37, 37, 37,  5,  5, 16, 28, 28, 28, 37, 37,\n",
       "        37,  1,  1, 15, 28, 28, 28, 37, 37, 37, 11, 11, 18, 25, 25, 25, 46,\n",
       "        46, 46,  7,  7, 14, 19, 19, 19, 46, 46, 46,  3,  3, 13, 19, 19, 19,\n",
       "        46, 46, 46], dtype=int32),\n",
       " 'split0_train_score': array([0.62929293, 0.62929293, 0.56639731, 0.51225589, 0.51225589,\n",
       "        0.51225589, 0.43680135, 0.43680135, 0.43680135, 0.63353535,\n",
       "        0.63353535, 0.56723906, 0.51218855, 0.51218855, 0.51218855,\n",
       "        0.43680135, 0.43680135, 0.43680135, 0.63424242, 0.63424242,\n",
       "        0.56744108, 0.51218855, 0.51218855, 0.51218855, 0.43680135,\n",
       "        0.43680135, 0.43680135, 0.6247138 , 0.6247138 , 0.57659933,\n",
       "        0.51720539, 0.51720539, 0.51720539, 0.44232323, 0.44232323,\n",
       "        0.44232323, 0.63063973, 0.63063973, 0.58232323, 0.5173064 ,\n",
       "        0.5173064 , 0.5173064 , 0.44232323, 0.44232323, 0.44232323,\n",
       "        0.63181818, 0.63181818, 0.58212121, 0.5173064 , 0.5173064 ,\n",
       "        0.5173064 , 0.44232323, 0.44232323, 0.44232323]),\n",
       " 'split1_train_score': array([0.62115754, 0.62115754, 0.56334804, 0.4929127 , 0.4929127 ,\n",
       "        0.4929127 , 0.44897478, 0.44897478, 0.44897478, 0.62351436,\n",
       "        0.62351436, 0.56526716, 0.49321572, 0.49321572, 0.49321572,\n",
       "        0.44897478, 0.44897478, 0.44897478, 0.62614053, 0.62614053,\n",
       "        0.56550285, 0.49321572, 0.49321572, 0.49321572, 0.44897478,\n",
       "        0.44897478, 0.44897478, 0.6175213 , 0.6175213 , 0.55287701,\n",
       "        0.49688563, 0.49688563, 0.49688563, 0.44769536, 0.44769536,\n",
       "        0.44769536, 0.62280731, 0.62280731, 0.56152991, 0.49725598,\n",
       "        0.49725598, 0.49725598, 0.44769536, 0.44769536, 0.44769536,\n",
       "        0.62469277, 0.62469277, 0.56253998, 0.49725598, 0.49725598,\n",
       "        0.49725598, 0.44769536, 0.44769536, 0.44769536]),\n",
       " 'split2_train_score': array([0.61324535, 0.61324535, 0.56809535, 0.49126292, 0.49126292,\n",
       "        0.49126292, 0.44816673, 0.44816673, 0.44816673, 0.61701626,\n",
       "        0.61701626, 0.57274166, 0.49196997, 0.49196997, 0.49196997,\n",
       "        0.44816673, 0.44816673, 0.44816673, 0.61839669, 0.61839669,\n",
       "        0.57307835, 0.49196997, 0.49196997, 0.49196997, 0.44816673,\n",
       "        0.44816673, 0.44816673, 0.59657924, 0.59657924, 0.55254032,\n",
       "        0.49021918, 0.49021918, 0.49021918, 0.4427797 , 0.4427797 ,\n",
       "        0.4427797 , 0.60937342, 0.60937342, 0.56355005, 0.49038753,\n",
       "        0.49038753, 0.49038753, 0.4427797 , 0.4427797 , 0.4427797 ,\n",
       "        0.61260564, 0.61260564, 0.56402141, 0.49038753, 0.49038753,\n",
       "        0.49038753, 0.4427797 , 0.4427797 , 0.4427797 ]),\n",
       " 'split3_train_score': array([0.61105687, 0.61105687, 0.5647958 , 0.48580856, 0.48580856,\n",
       "        0.48580856, 0.43988418, 0.43988418, 0.43988418, 0.61822834,\n",
       "        0.61822834, 0.56624356, 0.48580856, 0.48580856, 0.48580856,\n",
       "        0.43988418, 0.43988418, 0.43988418, 0.61977711, 0.61977711,\n",
       "        0.56708528, 0.48580856, 0.48580856, 0.48580856, 0.43988418,\n",
       "        0.43988418, 0.43988418, 0.61991179, 0.61991179, 0.57775832,\n",
       "        0.50402343, 0.50402343, 0.50402343, 0.43985051, 0.43985051,\n",
       "        0.43985051, 0.6291034 , 0.6291034 , 0.58072119, 0.50402343,\n",
       "        0.50402343, 0.50402343, 0.43985051, 0.43985051, 0.43985051,\n",
       "        0.6316959 , 0.6316959 , 0.58068752, 0.50402343, 0.50402343,\n",
       "        0.50402343, 0.43985051, 0.43985051, 0.43985051]),\n",
       " 'split4_train_score': array([0.61455843, 0.61455843, 0.54839904, 0.49934346, 0.49934346,\n",
       "        0.49934346, 0.44601192, 0.44601192, 0.44601192, 0.6185987 ,\n",
       "        0.6185987 , 0.55183327, 0.4995118 , 0.4995118 , 0.4995118 ,\n",
       "        0.44601192, 0.44601192, 0.44601192, 0.61967611, 0.61967611,\n",
       "        0.5522373 , 0.4995118 , 0.4995118 , 0.4995118 , 0.44601192,\n",
       "        0.44601192, 0.44601192, 0.59368371, 0.59368371, 0.52324838,\n",
       "        0.48867042, 0.48867042, 0.48867042, 0.44392445, 0.44392445,\n",
       "        0.44392445, 0.60994579, 0.60994579, 0.53813003, 0.48931012,\n",
       "        0.48931012, 0.48931012, 0.44392445, 0.44392445, 0.44392445,\n",
       "        0.61526548, 0.61526548, 0.54031851, 0.48931012, 0.48931012,\n",
       "        0.48931012, 0.44392445, 0.44392445, 0.44392445]),\n",
       " 'mean_train_score': array([0.61786222, 0.61786222, 0.56220711, 0.4963167 , 0.4963167 ,\n",
       "        0.4963167 , 0.44396779, 0.44396779, 0.44396779, 0.6221786 ,\n",
       "        0.6221786 , 0.56466494, 0.49653892, 0.49653892, 0.49653892,\n",
       "        0.44396779, 0.44396779, 0.44396779, 0.62364657, 0.62364657,\n",
       "        0.56506897, 0.49653892, 0.49653892, 0.49653892, 0.44396779,\n",
       "        0.44396779, 0.44396779, 0.61048197, 0.61048197, 0.55660467,\n",
       "        0.49940081, 0.49940081, 0.49940081, 0.44331465, 0.44331465,\n",
       "        0.44331465, 0.62037393, 0.62037393, 0.56525088, 0.49965669,\n",
       "        0.49965669, 0.49965669, 0.44331465, 0.44331465, 0.44331465,\n",
       "        0.62321559, 0.62321559, 0.56593773, 0.49965669, 0.49965669,\n",
       "        0.49965669, 0.44331465, 0.44331465, 0.44331465]),\n",
       " 'std_train_score': array([0.00663421, 0.00663421, 0.00708371, 0.00906386, 0.00906386,\n",
       "        0.00906386, 0.00479402, 0.00479402, 0.00479402, 0.00609639,\n",
       "        0.00609639, 0.00691904, 0.00895331, 0.00895331, 0.00895331,\n",
       "        0.00479402, 0.00479402, 0.00479402, 0.00594627, 0.00594627,\n",
       "        0.00690916, 0.00895331, 0.00895331, 0.00895331, 0.00479402,\n",
       "        0.00479402, 0.00479402, 0.01277878, 0.01277878, 0.01995154,\n",
       "        0.01043208, 0.01043208, 0.01043208, 0.00256249, 0.00256249,\n",
       "        0.00256249, 0.0091353 , 0.0091353 , 0.0160192 , 0.01028895,\n",
       "        0.01028895, 0.01028895, 0.00256249, 0.00256249, 0.00256249,\n",
       "        0.00804833, 0.00804833, 0.01517249, 0.01028895, 0.01028895,\n",
       "        0.01028895, 0.00256249, 0.00256249, 0.00256249])}"
      ]
     },
     "execution_count": 53,
     "metadata": {},
     "output_type": "execute_result"
    }
   ],
   "source": [
    "# Your code here \n",
    "grid_rfc.cv_results_"
   ]
  },
  {
   "cell_type": "markdown",
   "metadata": {},
   "source": [
    "### AdaBoost"
   ]
  },
  {
   "cell_type": "code",
   "execution_count": 54,
   "metadata": {
    "ExecuteTime": {
     "end_time": "2020-11-27T23:32:43.992079Z",
     "start_time": "2020-11-27T23:30:47.156503Z"
    }
   },
   "outputs": [
    {
     "name": "stdout",
     "output_type": "stream",
     "text": [
      "Fitting 3 folds for each of 9 candidates, totalling 27 fits\n"
     ]
    },
    {
     "name": "stderr",
     "output_type": "stream",
     "text": [
      "[Parallel(n_jobs=-1)]: Using backend LokyBackend with 4 concurrent workers.\n",
      "[Parallel(n_jobs=-1)]: Done  27 out of  27 | elapsed:  1.8min finished\n"
     ]
    },
    {
     "name": "stdout",
     "output_type": "stream",
     "text": [
      "Best Accuracy:0.6609386844092726\n",
      "Best Params:{'ada__learning_rate': 0.5, 'ada__n_estimators': 50}\n"
     ]
    }
   ],
   "source": [
    "# Your code here\n",
    "# ⏰ This cell may take several minutes to run\n",
    "from sklearn.ensemble import AdaBoostClassifier\n",
    "\n",
    "pipe_ada = Pipeline([('pca', PCA(n_components=27, random_state=123)),\n",
    "                  ('ada', AdaBoostClassifier(random_state=123))])\n",
    "\n",
    "\n",
    "param_grid_ada = [ \n",
    "  {'ada__n_estimators': [30,50,70],\n",
    "   'ada__learning_rate': [0.1, 0.5, 1.0]\n",
    "  }\n",
    "]\n",
    "\n",
    "grid_ada = GridSearchCV(estimator=pipe_ada,\n",
    "            param_grid=param_grid_ada,\n",
    "            scoring='accuracy',\n",
    "            cv=3, verbose=2, return_train_score = True, n_jobs=-1)\n",
    "\n",
    "# Fit using grid search\n",
    "grid_ada.fit(X_train, y_train)\n",
    "\n",
    "print(f'Best Accuracy:{grid_ada.best_score_}')\n",
    "\n",
    "print(f'Best Params:{grid_ada.best_params_}')"
   ]
  },
  {
   "cell_type": "markdown",
   "metadata": {},
   "source": [
    "Use your grid search object along with `.cv_results` to get the full result overview: "
   ]
  },
  {
   "cell_type": "code",
   "execution_count": 55,
   "metadata": {
    "ExecuteTime": {
     "end_time": "2020-11-27T23:32:44.365222Z",
     "start_time": "2020-11-27T23:32:44.356717Z"
    }
   },
   "outputs": [
    {
     "data": {
      "text/plain": [
       "{'mean_fit_time': array([ 8.69446357, 14.39927959, 19.922194  ,  8.71727832, 14.33312678,\n",
       "        20.06639679,  8.71629659, 14.296314  , 16.41343196]),\n",
       " 'std_fit_time': array([0.02308268, 0.02010271, 0.05981577, 0.01141816, 0.02660445,\n",
       "        0.03494781, 0.03054873, 0.03871003, 2.14887859]),\n",
       " 'mean_score_time': array([0.17073599, 0.24027832, 0.31296555, 0.163088  , 0.31175065,\n",
       "        0.31921887, 0.16747371, 0.24163739, 0.20147912]),\n",
       " 'std_score_time': array([0.00096548, 0.00164419, 0.00827035, 0.00176965, 0.09799258,\n",
       "        0.00299345, 0.00257406, 0.00493759, 0.0394405 ]),\n",
       " 'param_ada__learning_rate': masked_array(data=[0.1, 0.1, 0.1, 0.5, 0.5, 0.5, 1.0, 1.0, 1.0],\n",
       "              mask=[False, False, False, False, False, False, False, False,\n",
       "                    False],\n",
       "        fill_value='?',\n",
       "             dtype=object),\n",
       " 'param_ada__n_estimators': masked_array(data=[30, 50, 70, 30, 50, 70, 30, 50, 70],\n",
       "              mask=[False, False, False, False, False, False, False, False,\n",
       "                    False],\n",
       "        fill_value='?',\n",
       "             dtype=object),\n",
       " 'params': [{'ada__learning_rate': 0.1, 'ada__n_estimators': 30},\n",
       "  {'ada__learning_rate': 0.1, 'ada__n_estimators': 50},\n",
       "  {'ada__learning_rate': 0.1, 'ada__n_estimators': 70},\n",
       "  {'ada__learning_rate': 0.5, 'ada__n_estimators': 30},\n",
       "  {'ada__learning_rate': 0.5, 'ada__n_estimators': 50},\n",
       "  {'ada__learning_rate': 0.5, 'ada__n_estimators': 70},\n",
       "  {'ada__learning_rate': 1.0, 'ada__n_estimators': 30},\n",
       "  {'ada__learning_rate': 1.0, 'ada__n_estimators': 50},\n",
       "  {'ada__learning_rate': 1.0, 'ada__n_estimators': 70}],\n",
       " 'split0_test_score': array([0.57207498, 0.60859729, 0.62306076, 0.64883646, 0.65134131,\n",
       "        0.65481577, 0.64924047, 0.62895928, 0.61740465]),\n",
       " 'split1_test_score': array([0.53882828, 0.60557576, 0.62262626, 0.65810101, 0.67280808,\n",
       "        0.66739394, 0.60767677, 0.60008081, 0.58529293]),\n",
       " 'split2_test_score': array([0.53341414, 0.58165657, 0.63022222, 0.65478788, 0.65866667,\n",
       "        0.65672727, 0.63474747, 0.60420202, 0.59264646]),\n",
       " 'mean_test_score': array([0.5481058 , 0.59860987, 0.62530308, 0.65390845, 0.66093868,\n",
       "        0.65964566, 0.6305549 , 0.6110807 , 0.59844802]),\n",
       " 'std_test_score': array([0.01709229, 0.01205109, 0.00348288, 0.00383302, 0.00890981,\n",
       "        0.00553416, 0.01722534, 0.01275353, 0.01373643]),\n",
       " 'rank_test_score': array([9, 7, 5, 3, 1, 2, 4, 6, 8], dtype=int32),\n",
       " 'split0_train_score': array([0.57866667, 0.61232323, 0.62585859, 0.65373737, 0.65971717,\n",
       "        0.66545455, 0.65155556, 0.6349899 , 0.62254545]),\n",
       " 'split1_train_score': array([0.53937215, 0.60805624, 0.62340916, 0.65492303, 0.67249808,\n",
       "        0.66841744, 0.6124197 , 0.60530888, 0.5922185 ]),\n",
       " 'split2_train_score': array([0.53092804, 0.58074421, 0.62668175, 0.65997333, 0.66348834,\n",
       "        0.66150863, 0.63702477, 0.61084401, 0.59795564]),\n",
       " 'mean_train_score': array([0.54965562, 0.60037456, 0.6253165 , 0.65621125, 0.66523453,\n",
       "        0.66512687, 0.63366667, 0.61704759, 0.60423986]),\n",
       " 'std_train_score': array([0.02080154, 0.01398963, 0.00138993, 0.00270388, 0.00536189,\n",
       "        0.00283001, 0.01615263, 0.01288679, 0.01315421])}"
      ]
     },
     "execution_count": 55,
     "metadata": {},
     "output_type": "execute_result"
    }
   ],
   "source": [
    "# Your code here \n",
    "grid_ada.cv_results_"
   ]
  },
  {
   "cell_type": "markdown",
   "metadata": {},
   "source": [
    "### Level-up (Optional): SVM pipeline with grid search \n",
    "\n",
    "As extra level-up work, construct a pipeline with grid search for support vector machines. \n",
    "* Make sure your grid isn't too big. You'll see it takes quite a while to fit SVMs with non-linear kernel functions!"
   ]
  },
  {
   "cell_type": "code",
   "execution_count": 57,
   "metadata": {
    "ExecuteTime": {
     "end_time": "2020-11-29T19:43:19.992894Z",
     "start_time": "2020-11-29T19:16:53.066258Z"
    }
   },
   "outputs": [
    {
     "name": "stdout",
     "output_type": "stream",
     "text": [
      "Fitting 3 folds for each of 7 candidates, totalling 21 fits\n"
     ]
    },
    {
     "name": "stderr",
     "output_type": "stream",
     "text": [
      "[Parallel(n_jobs=-1)]: Using backend LokyBackend with 4 concurrent workers.\n",
      "[Parallel(n_jobs=-1)]: Done  21 out of  21 | elapsed: 25.6min finished\n"
     ]
    },
    {
     "name": "stdout",
     "output_type": "stream",
     "text": [
      "Best accuracy: 0.768\n",
      "\n",
      "Best params:\n",
      " {'clf__C': 10, 'clf__gamma': 0.01, 'clf__kernel': 'rbf'}\n"
     ]
    }
   ],
   "source": [
    "# Your code here\n",
    "# ⏰ This cell may take a very long time to run!\n",
    "pipe_svm = Pipeline([('pca', PCA(n_components=27)), \n",
    "                     ('clf', SVC(random_state=123))])\n",
    "\n",
    "# Set grid search params\n",
    "param_grid_svm = [\n",
    "  {'clf__C': [0.1, 1, 10] , 'clf__kernel': ['linear']},\n",
    "  {'clf__C': [1, 10], 'clf__gamma': [0.001, 0.01], 'clf__kernel': ['rbf']},\n",
    " ]\n",
    "\n",
    "# Construct grid search\n",
    "gs_svm = GridSearchCV(estimator=pipe_svm, \n",
    "                      param_grid=param_grid_svm, \n",
    "                      scoring='accuracy', \n",
    "                      cv=3, verbose=2, return_train_score = True, n_jobs=-1)\n",
    "\n",
    "# Fit using grid search\n",
    "gs_svm.fit(X_train, y_train)\n",
    "\n",
    "# Best accuracy\n",
    "print('Best accuracy: %.3f' % gs_svm.best_score_)\n",
    "\n",
    "# Best params\n",
    "print('\\nBest params:\\n', gs_svm.best_params_)"
   ]
  },
  {
   "cell_type": "markdown",
   "metadata": {},
   "source": [
    "Use your grid search object along with `.cv_results` to get the full result overview: "
   ]
  },
  {
   "cell_type": "code",
   "execution_count": 58,
   "metadata": {
    "ExecuteTime": {
     "end_time": "2020-11-29T19:43:20.460787Z",
     "start_time": "2020-11-29T19:43:20.450665Z"
    }
   },
   "outputs": [
    {
     "data": {
      "text/plain": [
       "{'mean_fit_time': array([  46.627786  ,  199.48607   , 1148.07654198,   32.05320668,\n",
       "          39.3591315 ,   26.05693396,   40.62204099]),\n",
       " 'std_fit_time': array([1.15500255e-01, 1.55091393e+01, 1.26431218e+02, 1.04850278e+00,\n",
       "        7.85343578e-01, 6.85438425e-01, 5.91867924e-01]),\n",
       " 'mean_score_time': array([ 8.9235243 , 11.24808574,  7.44028322, 14.65579573, 14.61102994,\n",
       "        12.56045866, 14.84262824]),\n",
       " 'std_score_time': array([0.04092081, 1.11560127, 1.82854626, 0.59640544, 0.31063036,\n",
       "        0.13979847, 0.31303568]),\n",
       " 'param_clf__C': masked_array(data=[0.1, 1, 10, 1, 1, 10, 10],\n",
       "              mask=[False, False, False, False, False, False, False],\n",
       "        fill_value='?',\n",
       "             dtype=object),\n",
       " 'param_clf__kernel': masked_array(data=['linear', 'linear', 'linear', 'rbf', 'rbf', 'rbf',\n",
       "                    'rbf'],\n",
       "              mask=[False, False, False, False, False, False, False],\n",
       "        fill_value='?',\n",
       "             dtype=object),\n",
       " 'param_clf__gamma': masked_array(data=[--, --, --, 0.001, 0.01, 0.001, 0.01],\n",
       "              mask=[ True,  True,  True, False, False, False, False],\n",
       "        fill_value='?',\n",
       "             dtype=object),\n",
       " 'params': [{'clf__C': 0.1, 'clf__kernel': 'linear'},\n",
       "  {'clf__C': 1, 'clf__kernel': 'linear'},\n",
       "  {'clf__C': 10, 'clf__kernel': 'linear'},\n",
       "  {'clf__C': 1, 'clf__gamma': 0.001, 'clf__kernel': 'rbf'},\n",
       "  {'clf__C': 1, 'clf__gamma': 0.01, 'clf__kernel': 'rbf'},\n",
       "  {'clf__C': 10, 'clf__gamma': 0.001, 'clf__kernel': 'rbf'},\n",
       "  {'clf__C': 10, 'clf__gamma': 0.01, 'clf__kernel': 'rbf'}],\n",
       " 'split0_test_score': array([0.73489011, 0.73068843, 0.73181965, 0.73375889, 0.75363607,\n",
       "        0.75315126, 0.76446348]),\n",
       " 'split1_test_score': array([0.73729293, 0.73648485, 0.73656566, 0.73939394, 0.75975758,\n",
       "        0.76072727, 0.76816162]),\n",
       " 'split2_test_score': array([0.73365657, 0.73309091, 0.73365657, 0.73115152, 0.75765657,\n",
       "        0.75321212, 0.77115152]),\n",
       " 'mean_test_score': array([0.73527987, 0.7334214 , 0.73401396, 0.73476811, 0.75701674,\n",
       "        0.75569688, 0.76792554]),\n",
       " 'std_test_score': array([0.0015099 , 0.00237789, 0.00195396, 0.0034398 , 0.00253972,\n",
       "        0.00355711, 0.00273548]),\n",
       " 'rank_test_score': array([4, 7, 6, 5, 2, 3, 1], dtype=int32),\n",
       " 'split0_train_score': array([0.73850505, 0.74024242, 0.7400404 , 0.74064646, 0.79276768,\n",
       "        0.7700202 , 0.85535354]),\n",
       " 'split1_train_score': array([0.73936407, 0.73750556, 0.73782877, 0.74065694, 0.79180639,\n",
       "        0.76914064, 0.85863197]),\n",
       " 'split2_train_score': array([0.73710153, 0.73722274, 0.73843481, 0.73972769, 0.78889742,\n",
       "        0.76881742, 0.855723  ]),\n",
       " 'mean_train_score': array([0.73832355, 0.73832357, 0.738768  , 0.7403437 , 0.79115716,\n",
       "        0.76932609, 0.8565695 ]),\n",
       " 'std_train_score': array([0.00093255, 0.00136174, 0.00093313, 0.00043561, 0.00164537,\n",
       "        0.00050824, 0.00146617])}"
      ]
     },
     "execution_count": 58,
     "metadata": {},
     "output_type": "execute_result"
    }
   ],
   "source": [
    "# Your code here \n",
    "gs_svm.cv_results_"
   ]
  },
  {
   "cell_type": "markdown",
   "metadata": {},
   "source": [
    "## Note\n",
    "\n",
    "Note that this solution is only one of many options. The results in the Random Forest and AdaBoost models show that there is a lot of improvement possible by tuning the hyperparameters further, so make sure to explore this yourself!"
   ]
  },
  {
   "cell_type": "markdown",
   "metadata": {},
   "source": [
    "## Summary \n",
    "\n",
    "Great! You've gotten a lot of practice in using PCA in pipelines. What algorithm would you choose and why?"
   ]
  }
 ],
 "metadata": {
  "kernelspec": {
   "display_name": "learn-env",
   "language": "python",
   "name": "learn-env"
  },
  "language_info": {
   "codemirror_mode": {
    "name": "ipython",
    "version": 3
   },
   "file_extension": ".py",
   "mimetype": "text/x-python",
   "name": "python",
   "nbconvert_exporter": "python",
   "pygments_lexer": "ipython3",
   "version": "3.6.9"
  },
  "toc": {
   "base_numbering": 1,
   "nav_menu": {},
   "number_sections": true,
   "sideBar": true,
   "skip_h1_title": false,
   "title_cell": "Table of Contents",
   "title_sidebar": "Contents",
   "toc_cell": false,
   "toc_position": {},
   "toc_section_display": true,
   "toc_window_display": false
  },
  "varInspector": {
   "cols": {
    "lenName": 16,
    "lenType": 16,
    "lenVar": 40
   },
   "kernels_config": {
    "python": {
     "delete_cmd_postfix": "",
     "delete_cmd_prefix": "del ",
     "library": "var_list.py",
     "varRefreshCmd": "print(var_dic_list())"
    },
    "r": {
     "delete_cmd_postfix": ") ",
     "delete_cmd_prefix": "rm(",
     "library": "var_list.r",
     "varRefreshCmd": "cat(var_dic_list()) "
    }
   },
   "types_to_exclude": [
    "module",
    "function",
    "builtin_function_or_method",
    "instance",
    "_Feature"
   ],
   "window_display": false
  }
 },
 "nbformat": 4,
 "nbformat_minor": 2
}
